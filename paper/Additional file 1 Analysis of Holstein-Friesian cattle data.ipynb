{
 "cells": [
  {
   "cell_type": "markdown",
   "id": "23522272",
   "metadata": {},
   "source": [
    "# Analysis of example data"
   ]
  },
  {
   "cell_type": "code",
   "execution_count": 1,
   "id": "c5fd13b7",
   "metadata": {},
   "outputs": [],
   "source": [
    "#Import PyMSQ module and relevant libraries\n",
    "# from PyMSQ import msq\n",
    "import msq\n",
    "import numpy as np\n",
    "import pandas as pd\n",
    "import time"
   ]
  },
  {
   "cell_type": "code",
   "execution_count": 2,
   "id": "7fbc7c27",
   "metadata": {},
   "outputs": [],
   "source": [
    "# Import example data\n",
    "gmap = pd.read_table(\"chr.txt\", sep=\" \")\n",
    "group = pd.read_table(\"group.txt\", sep=\" \")\n",
    "meff = pd.read_table(\"effects.txt\", sep=\" \")\n",
    "gmat = pd.read_table(\"phase.txt\", header=None, sep=\" \")\n",
    "ped = pd.read_table(\"ped.txt\", sep=\" \")\n",
    "# gmap, meff, gmat, group, ped = msq.example_data()"
   ]
  },
  {
   "cell_type": "markdown",
   "id": "b6815e81",
   "metadata": {},
   "source": [
    "One of our main research interests is estimating Mendelian sampling variances for milk traits (fat, protein, and pH), as well as covariances and correlations between traits. We're also interested in creating a similarity matrix based on Mendelian sampling values for aggregate genotype assuming index weights of one."
   ]
  },
  {
   "cell_type": "code",
   "execution_count": 3,
   "id": "104824dd",
   "metadata": {},
   "outputs": [
    {
     "name": "stdout",
     "output_type": "stream",
     "text": [
      "Converting phased haplotypes to genotypes\n",
      "Data passed the test!\n",
      "Number of individuals:   265\n",
      "Number of groups:        1 :  ['F']\n",
      "Number of specific maps: 1\n",
      "Number of chromosomes:   29\n",
      "Total no. markers:       39780\n",
      "Number of trait(s):      3\n",
      "Trait name(s) and Index weight(s)\n",
      "fat :  1\n",
      "pH :  1\n",
      "protein :  1\n",
      "Time taken:  2.86 secs\n"
     ]
    }
   ],
   "source": [
    "# check main information for errors and create class object to store the information\n",
    "index_wt = [1, 1, 1]\n",
    "start = time.time()\n",
    "data = msq.Datacheck(gmap=gmap, meff=meff, gmat=gmat, group=group,\n",
    "                     indwt=index_wt, progress=True)\n",
    "print('Time taken: ', round(time.time() - start, 2), 'secs')\n",
    "\n",
    "del gmap, meff, gmat, group, index_wt"
   ]
  },
  {
   "cell_type": "code",
   "execution_count": 4,
   "id": "f0677f13",
   "metadata": {},
   "outputs": [
    {
     "name": "stdout",
     "output_type": "stream",
     "text": [
      "Time taken:  1.97 secs\n"
     ]
    }
   ],
   "source": [
    "# create population covariance matrices\n",
    "start = time.time()\n",
    "covmatrices = msq.popcovmat(info=data, mposunit=\"cM\", method=1)\n",
    "print('Time taken: ', round(time.time() - start, 2), 'secs')"
   ]
  },
  {
   "cell_type": "code",
   "execution_count": 5,
   "id": "df8530d0",
   "metadata": {},
   "outputs": [
    {
     "name": "stdout",
     "output_type": "stream",
     "text": [
      "Progress: |██████████████████████████████████████████████████| 100% Complete\n",
      "Time taken:  27.81 secs\n",
      "        ID Group       fat    pH_fat        pH  protein_fat  protein_pH  \\\n",
      "0    10001     F  0.000466  0.000154  0.001805     0.000136   -0.000157   \n",
      "1    10002     F  0.023262  0.014908  0.013225     0.017306    0.011082   \n",
      "2    10003     F  0.021665  0.013760  0.010475     0.015662    0.009849   \n",
      "3    10004     F  0.000949  0.000317  0.004836    -0.000044   -0.000158   \n",
      "4    10005     F  0.021892  0.014447  0.012676     0.015576    0.010120   \n",
      "..     ...   ...       ...       ...       ...          ...         ...   \n",
      "260  10261     F  0.022112  0.012953  0.010050     0.017090    0.009524   \n",
      "261  10262     F  0.023853  0.016183  0.012896     0.017691    0.012189   \n",
      "262  10263     F  0.000604  0.000096  0.002694     0.000025    0.000126   \n",
      "263  10264     F  0.022809  0.015301  0.012748     0.017123    0.011174   \n",
      "264  10265     F  0.022491  0.016226  0.013892     0.016460    0.011973   \n",
      "\n",
      "      protein    AG_fat     AG_pH  AG_protein        AG  \n",
      "0    0.002321  0.000756  0.001802    0.002300  0.004858  \n",
      "1    0.015098  0.055475  0.039215    0.043486  0.138176  \n",
      "2    0.013710  0.051087  0.034084    0.039221  0.124392  \n",
      "3    0.001352  0.001223  0.004995    0.001149  0.007367  \n",
      "4    0.013318  0.051915  0.037243    0.039013  0.128172  \n",
      "..        ...       ...       ...         ...       ...  \n",
      "260  0.015024  0.052155  0.032527    0.041637  0.126319  \n",
      "261  0.015089  0.057727  0.041268    0.044968  0.143963  \n",
      "262  0.001841  0.000725  0.002916    0.001992  0.005633  \n",
      "263  0.014931  0.055232  0.039223    0.043227  0.137683  \n",
      "264  0.013582  0.055177  0.042091    0.042014  0.139282  \n",
      "\n",
      "[265 rows x 12 columns]\n"
     ]
    }
   ],
   "source": [
    "# Estimate Mendelian sampling (co)variance\n",
    "start = time.time()\n",
    "msvmsc_g = msq.msvarcov_g(info=data, covmat=covmatrices,\n",
    "                          sub_id=None, progress=True)\n",
    "print('Time taken: ', round(time.time() - start, 2), 'secs')\n",
    "print(msvmsc_g)\n",
    "\n"
   ]
  },
  {
   "cell_type": "code",
   "execution_count": 6,
   "id": "e7173a76",
   "metadata": {},
   "outputs": [
    {
     "name": "stdout",
     "output_type": "stream",
     "text": [
      "Time taken:  0.05 secs\n",
      "        ID Group    pH_fat  protein_fat  protein_pH    AG_fat     AG_pH  \\\n",
      "0    10001     F  0.168243     0.130355   -0.076619  0.502305  0.608696   \n",
      "1    10002     F  0.849938     0.923450    0.784271  0.978501  0.917349   \n",
      "2    10003     F  0.913412     0.908779    0.821836  0.984097  0.944224   \n",
      "3    10004     F  0.148098    -0.038853   -0.061912  0.462340  0.836841   \n",
      "4    10005     F  0.867249     0.912187    0.778874  0.980058  0.923970   \n",
      "..     ...   ...       ...          ...         ...       ...       ...   \n",
      "260  10261     F  0.868944     0.937647    0.775095  0.986844  0.912919   \n",
      "261  10262     F  0.922706     0.932494    0.873801  0.985100  0.957769   \n",
      "262  10263     F  0.075172     0.023946    0.056342  0.393020  0.748465   \n",
      "263  10264     F  0.897337     0.927839    0.809875  0.985611  0.936218   \n",
      "264  10265     F  0.918000     0.941739    0.871634  0.985839  0.956892   \n",
      "\n",
      "     AG_protein  \n",
      "0      0.684896  \n",
      "1      0.952081  \n",
      "2      0.949738  \n",
      "3      0.364236  \n",
      "4      0.944280  \n",
      "..          ...  \n",
      "260    0.955789  \n",
      "261    0.964839  \n",
      "262    0.618574  \n",
      "263    0.953390  \n",
      "264    0.965978  \n",
      "\n",
      "[265 rows x 8 columns]\n"
     ]
    }
   ],
   "source": [
    "# Estimate Mendelian correlation\n",
    "start = time.time()\n",
    "msvmsc_gcorr = msq.msvarcov_gcorr(msvmsc=msvmsc_g)\n",
    "print('Time taken: ', round(time.time() - start, 2), 'secs')\n",
    "print(msvmsc_gcorr)"
   ]
  },
  {
   "cell_type": "code",
   "execution_count": 7,
   "id": "dc6d224a",
   "metadata": {},
   "outputs": [
    {
     "name": "stdout",
     "output_type": "stream",
     "text": [
      "Progress: |██████████████████████████████████████████████████| 100% Complete\n",
      "Creating similarity matrix based on aggregate genotype\n",
      "Progress: |██████████████████████████████████████████████████| 100% Complete\n",
      "Time taken:  6.26 secs\n"
     ]
    }
   ],
   "source": [
    "# Derive similarity matrix based on Mendelian sampling values for aggregate genotype\n",
    "start = time.time()\n",
    "sim_g = msq.simmat_g(info=data, covmat=covmatrices, sub_id=None,\n",
    "                     chrinterest=\"none\", save=False, stdsim=False,\n",
    "                     progress=True)\n",
    "print('Time taken: ', round(time.time() - start, 2), 'secs')"
   ]
  },
  {
   "cell_type": "code",
   "execution_count": 8,
   "id": "6e4699e7",
   "metadata": {},
   "outputs": [
    {
     "data": {
      "text/plain": [
       "(265, 265)"
      ]
     },
     "execution_count": 8,
     "metadata": {},
     "output_type": "execute_result"
    }
   ],
   "source": [
    "sim_g = np.array(sim_g[0][0])\n",
    "sim_g.shape"
   ]
  },
  {
   "cell_type": "code",
   "execution_count": 9,
   "id": "c5ab8006",
   "metadata": {},
   "outputs": [],
   "source": [
    "# Write data to file for visualization in R\n",
    "msvmsc_g.to_csv(\"msvmsc_g.csv\", header=True, index=False)\n",
    "msvmsc_gcorr.to_csv(\"msvmsc_gcorr.csv\", header=True, index=False)\n",
    "ped.to_csv(\"pedigree.csv\", header=True, index=False)\n",
    "np.save(\"sim_g.npy\", sim_g)"
   ]
  }
 ],
 "metadata": {
  "kernelspec": {
   "display_name": "Python 3",
   "language": "python",
   "name": "python3"
  },
  "language_info": {
   "codemirror_mode": {
    "name": "ipython",
    "version": 3
   },
   "file_extension": ".py",
   "mimetype": "text/x-python",
   "name": "python",
   "nbconvert_exporter": "python",
   "pygments_lexer": "ipython3",
   "version": "3.8.8"
  }
 },
 "nbformat": 4,
 "nbformat_minor": 5
}
